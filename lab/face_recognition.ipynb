{
 "cells": [
  {
   "cell_type": "code",
   "execution_count": 1,
   "metadata": {},
   "outputs": [],
   "source": [
    "import numpy as np\n",
    "import cv2\n",
    "from os import listdir\n",
    "from os.path import isfile, join"
   ]
  },
  {
   "cell_type": "markdown",
   "metadata": {},
   "source": [
    "Utilize a função a abaixo para segmentar o rosto de uma imagem."
   ]
  },
  {
   "cell_type": "code",
   "execution_count": 2,
   "metadata": {},
   "outputs": [],
   "source": [
    "face_classifier = cv2.CascadeClassifier('classificadores/haarcascade_frontalface_default.xml')\n",
    "\n",
    "def face_extractor(img):\n",
    "    gray = cv2.cvtColor(img,cv2.COLOR_BGR2GRAY)\n",
    "    faces = face_classifier.detectMultiScale(gray, 1.2, 5)\n",
    "    \n",
    "    if faces is ():\n",
    "        return None, None\n",
    "    \n",
    "    for (x,y,w,h) in faces:\n",
    "        cropped_face = img[y:y+h, x:x+w]\n",
    "\n",
    "    return cropped_face, faces"
   ]
  },
  {
   "cell_type": "markdown",
   "metadata": {},
   "source": [
    "### Captura de faces para uso nos algoritmos Eigenfaces, Fisherfaces e LBPH"
   ]
  },
  {
   "cell_type": "code",
   "execution_count": 54,
   "metadata": {},
   "outputs": [
    {
     "name": "stdout",
     "output_type": "stream",
     "text": [
      "Coleta de amostras completado\n"
     ]
    }
   ],
   "source": [
    "cap = cv2.VideoCapture(0)\n",
    "\n",
    "contagem = 0\n",
    "\n",
    "contagem_maxima = 200\n",
    "\n",
    "while True:\n",
    "    ret, frame = cap.read()\n",
    "\n",
    "    if ret:\n",
    "        cv2.imshow(\"Imagem de Treino\", frame)\n",
    "        \n",
    "        face, faces = face_extractor(frame)\n",
    "        if face is not None:\n",
    "            face_norm = cv2.resize(face, (200, 200))\n",
    "            face_norm = cv2.cvtColor(face_norm, cv2.COLOR_BGR2GRAY)\n",
    "            file_name_path = \"imagens/train/a/\"+str(contagem)+\".png\"\n",
    "            cv2.imwrite(file_name_path, face_norm)\n",
    "            contagem += 1\n",
    "        # Se for teclado Enter (tecla 13) deverá sair do loop e encerrar a captura de imagem\n",
    "        # ou for alcançado a contagem máxima (amostras)\n",
    "        if cv2.waitKey(1) == 13 or contagem == contagem_maxima:\n",
    "            break\n",
    "        \n",
    "cap.release()\n",
    "cv2.destroyAllWindows()\n",
    "print(\"Coleta de amostras completado\")"
   ]
  },
  {
   "cell_type": "markdown",
   "metadata": {},
   "source": [
    "### Leitura das imagens para treinamento"
   ]
  },
  {
   "cell_type": "code",
   "execution_count": 61,
   "metadata": {},
   "outputs": [],
   "source": [
    "data_path_a = \"imagens/train/a/\"\n",
    "data_path_b = \"imagens/train/b/\"\n",
    "\n",
    "training_data, labels = [], []\n",
    "\n",
    "onlyfiles_a = [f for f in listdir(data_path_a) if isfile(join(data_path_a, f))]\n",
    "onlyfiles_b = [f for f in listdir(data_path_b) if isfile(join(data_path_b, f))]\n",
    "\n",
    "for i, files in enumerate(onlyfiles_a):\n",
    "    image_path = data_path_a + onlyfiles[i]\n",
    "    images = cv2.imread(image_path, cv2.IMREAD_GRAYSCALE)\n",
    "    training_data.append(images)\n",
    "    labels.append(0)\n",
    "\n",
    "for i, files in enumerate(onlyfiles_b):\n",
    "    image_path = data_path_b + onlyfiles[i]\n",
    "    images = cv2.imread(image_path, cv2.IMREAD_GRAYSCALE)\n",
    "    training_data.append(images)\n",
    "    labels.append(1)\n",
    "    \n",
    "# Criando uma matriz da lista de labels\n",
    "labels = np.asarray(labels, dtype=np.int32)\n",
    "\n",
    "person = {0: \"TESTE 01\", 1: \"TESTE 02\"}"
   ]
  },
  {
   "cell_type": "markdown",
   "metadata": {},
   "source": [
    "### Eigenfaces"
   ]
  },
  {
   "cell_type": "code",
   "execution_count": 62,
   "metadata": {},
   "outputs": [
    {
     "name": "stdout",
     "output_type": "stream",
     "text": [
      "Modelo Eigen Face treinado com sucesso.\n"
     ]
    }
   ],
   "source": [
    "# Treinamento do modelo\n",
    "modelEigenFace = cv2.face.EigenFaceRecognizer_create()\n",
    "modelEigenFace.train(training_data, labels)\n",
    "\n",
    "print(\"Modelo Eigen Face treinado com sucesso.\")"
   ]
  },
  {
   "cell_type": "markdown",
   "metadata": {},
   "source": [
    "### Fisherfaces"
   ]
  },
  {
   "cell_type": "code",
   "execution_count": 63,
   "metadata": {},
   "outputs": [
    {
     "name": "stdout",
     "output_type": "stream",
     "text": [
      "Modelo Fisher Face treinado com sucesso.\n"
     ]
    }
   ],
   "source": [
    "# Treinamento do modelo\n",
    "modelFisherFace = cv2.face.FisherFaceRecognizer_create()\n",
    "modelFisherFace.train(training_data, labels)\n",
    "\n",
    "print(\"Modelo Fisher Face treinado com sucesso.\")"
   ]
  },
  {
   "cell_type": "markdown",
   "metadata": {},
   "source": [
    "### LBPH - Local Binary Patterns Histograms"
   ]
  },
  {
   "cell_type": "code",
   "execution_count": 65,
   "metadata": {},
   "outputs": [
    {
     "name": "stdout",
     "output_type": "stream",
     "text": [
      "Modelo LBPH treinado com sucesso.\n"
     ]
    }
   ],
   "source": [
    "# Treinamento do modelo\n",
    "modelLBPH = cv2.face.LBPHFaceRecognizer_create()\n",
    "modelLBPH.train(training_data, labels)\n",
    "\n",
    "print(\"Modelo LBPH treinado com sucesso.\")"
   ]
  },
  {
   "cell_type": "markdown",
   "metadata": {},
   "source": [
    "### Aplicando os modelos"
   ]
  },
  {
   "cell_type": "code",
   "execution_count": 66,
   "metadata": {},
   "outputs": [
    {
     "name": "stdout",
     "output_type": "stream",
     "text": [
      "Total de faces: 410\n"
     ]
    }
   ],
   "source": [
    "cap = cv2.VideoCapture(0)\n",
    "\n",
    "total = 0\n",
    "successo = 0\n",
    "nao_identificado = 0\n",
    "no_face = 0\n",
    "img_capturada = False\n",
    "\n",
    "while True:\n",
    "    ret, frame = cap.read()\n",
    "    \n",
    "    if ret:\n",
    "        \n",
    "        total += 1\n",
    "        \n",
    "        # Face da imagem obtida da câmera\n",
    "        face, faces = face_extractor(frame)\n",
    "        \n",
    "        if face is None:\n",
    "            cv2.putText(frame, \"FACE AUSENTE\", (25,150), cv2.FONT_HERSHEY_SIMPLEX, 1, (255,0,0), 2)\n",
    "        else:\n",
    "            for (x,y,w,h) in faces:\n",
    "                cv2.rectangle(frame, (x, y), (x+w, y+h), (0, 0, 255), 2)\n",
    "            \n",
    "            face_norm = cv2.resize(face, (200, 200))\n",
    "            face_norm = cv2.cvtColor(face_norm, cv2.COLOR_BGR2GRAY)\n",
    "            \n",
    "            resultsEigenFace = modelEigenFace.predict(face_norm)\n",
    "            resultsFisherFace = modelFisherFace.predict(face_norm)\n",
    "            resultsLBPH = modelLBPH.predict(face_norm)\n",
    "            \n",
    "            infoEigenFace = \"EigenFace: \" + str(int(resultsEigenFace[1]/100)) + \" pontos\"\n",
    "            infoFisherFace = \"FisherFace: \" + str(int(resultsFisherFace[1]/10)) + \" pontos\"\n",
    "            infoLBPH = \"LBPH: \" + str(int(resultsLBPH[1])) + \" pontos\"\n",
    "            \n",
    "            cv2.putText(frame, infoEigenFace, (25, 25), cv2.FONT_HERSHEY_SIMPLEX, 0.6, (255,0,0), 2)\n",
    "            cv2.putText(frame, infoFisherFace, (25, 50), cv2.FONT_HERSHEY_SIMPLEX, 0.6, (255,0,0), 2)\n",
    "            cv2.putText(frame, infoLBPH, (25, 75), cv2.FONT_HERSHEY_SIMPLEX, 0.6, (255,0,0), 2)\n",
    "            \n",
    "            if (resultsEigenFace[1] >= 3000 and resultsEigenFace[1] <= 4000):\n",
    "                cv2.putText(frame, person[0] + \" Reconhecido\", (280, 25), cv2.FONT_HERSHEY_SIMPLEX, 0.6, (255,0,0), 2)\n",
    "                \n",
    "            if (resultsFisherFace[1] >= 300 and resultsFisherFace[1] <= 400):\n",
    "                cv2.putText(frame, person[0] + \" Reconhecido\", (280, 50), cv2.FONT_HERSHEY_SIMPLEX, 0.6, (255,0,0), 2)\n",
    "                \n",
    "            if (resultsLBPH[1] >= 30 and resultsLBPH[1] <= 40):\n",
    "                cv2.putText(frame, person[0] + \" Reconhecido\", (280, 75), cv2.FONT_HERSHEY_SIMPLEX, 0.6, (255,0,0), 2)\n",
    "                if (not img_capturada):\n",
    "                    cv2.imwrite(\"imagens/evidencias/face_reconhecida.png\", frame)\n",
    "                    img_capturada = True\n",
    "\n",
    "        cv2.imshow(\"Reconhecimento de face\", frame)\n",
    "            \n",
    "    # Se for teclado Enter (tecla 13) deverá sair do loop e encerrar a captura de imagem    \n",
    "    if cv2.waitKey(1) == 13: #13 is the Enter Key\n",
    "        break\n",
    "\n",
    "print(\"Total de faces: \" + str(total))\n",
    "\n",
    "cap.release()\n",
    "cv2.destroyAllWindows()"
   ]
  },
  {
   "cell_type": "code",
   "execution_count": 10,
   "metadata": {},
   "outputs": [],
   "source": [
    "cap.release()\n",
    "cv2.destroyAllWindows()"
   ]
  },
  {
   "cell_type": "code",
   "execution_count": null,
   "metadata": {},
   "outputs": [],
   "source": []
  }
 ],
 "metadata": {
  "kernelspec": {
   "display_name": "Python 3",
   "language": "python",
   "name": "python3"
  },
  "language_info": {
   "codemirror_mode": {
    "name": "ipython",
    "version": 3
   },
   "file_extension": ".py",
   "mimetype": "text/x-python",
   "name": "python",
   "nbconvert_exporter": "python",
   "pygments_lexer": "ipython3",
   "version": "3.6.4"
  }
 },
 "nbformat": 4,
 "nbformat_minor": 2
}
